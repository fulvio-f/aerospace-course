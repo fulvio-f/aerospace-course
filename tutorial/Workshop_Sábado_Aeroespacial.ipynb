{
  "nbformat": 4,
  "nbformat_minor": 0,
  "metadata": {
    "colab": {
      "provenance": [],
      "collapsed_sections": [],
      "authorship_tag": "ABX9TyPiHRHkNi74I/iBEzo+hfGt",
      "include_colab_link": true
    },
    "kernelspec": {
      "name": "python3",
      "display_name": "Python 3"
    },
    "language_info": {
      "name": "python"
    }
  },
  "cells": [
    {
      "cell_type": "markdown",
      "metadata": {
        "id": "view-in-github",
        "colab_type": "text"
      },
      "source": [
        "<a href=\"https://colab.research.google.com/github/fulvio-f/aerospace-course/blob/main/tutorial/Workshop_S%C3%A1bado_Aeroespacial.ipynb\" target=\"_parent\"><img src=\"https://colab.research.google.com/assets/colab-badge.svg\" alt=\"Open In Colab\"/></a>"
      ]
    },
    {
      "cell_type": "markdown",
      "source": [
        "# Hello, Sábado Aeroespacial!"
      ],
      "metadata": {
        "id": "Xqe7V-HZ_K2N"
      }
    },
    {
      "cell_type": "code",
      "source": [
        "print(\"Hello, Sábado Aeroespacial!\")"
      ],
      "metadata": {
        "id": "zY2NneM6_Yez"
      },
      "execution_count": null,
      "outputs": []
    },
    {
      "cell_type": "markdown",
      "source": [
        "# **Básico de Python**"
      ],
      "metadata": {
        "id": "KsvcgaZoP3Z0"
      }
    },
    {
      "cell_type": "markdown",
      "source": [
        "## Operações Aritméticas:"
      ],
      "metadata": {
        "id": "W1GA3FXF_u9l"
      }
    },
    {
      "cell_type": "code",
      "source": [
        "a = 5 + 2   # Adição\n",
        "b = 7 - 3   # Subtração\n",
        "c = 3 * 2   # Multiplicação\n",
        "d = 10 / 5  # Divisão\n",
        "e = 2 ** 3  # Potenciação\n",
        "\n",
        "print(\"Adição: a = {}\".format(a))\n",
        "print(\"Subtração: b = {}\".format(b))\n",
        "print(\"Multiplicação: c = {}\".format(c))\n",
        "print(\"Divisão: d = {}\".format(d))\n",
        "print(\"Potenciação: e = {}\".format(e))"
      ],
      "metadata": {
        "id": "66z5vuoQ_1Cs"
      },
      "execution_count": null,
      "outputs": []
    },
    {
      "cell_type": "markdown",
      "source": [
        "## Tipos de Dados:"
      ],
      "metadata": {
        "id": "s5Bj-MZcB971"
      }
    },
    {
      "cell_type": "code",
      "source": [
        "idade = 23                # int (Inteiro)\n",
        "altura = 1.73             # float (Fracionário)\n",
        "nome = \"Guido van Rossum\" # str (String: \"Texto\")\n",
        "lampada_acesa = True      # bool (Booleano: \"Verdadeiro\" ou \"Falso\")\n",
        "\n",
        "print(type(idade))        # Função utilizada para verificar o tipo do dado"
      ],
      "metadata": {
        "id": "b8iOmYKtCC1u"
      },
      "execution_count": null,
      "outputs": []
    },
    {
      "cell_type": "markdown",
      "source": [
        "## Conversão de Tipos:"
      ],
      "metadata": {
        "id": "QVBCsUbRYaSt"
      }
    },
    {
      "cell_type": "code",
      "source": [
        "int_nota = 8  # Nota (Inteiro)\n",
        "float_nota = float(int_nota) # Nota (Fracionário)\n",
        "string_nota = str(int_nota)  # Nota (String: \"Texto\")\n",
        "\n",
        "print(type(int_nota))\n",
        "print(type(float_nota))\n",
        "print(type(string_nota))"
      ],
      "metadata": {
        "id": "8EnA9rxVYcsK"
      },
      "execution_count": null,
      "outputs": []
    },
    {
      "cell_type": "code",
      "source": [
        "# CORRETA: Forma de concatenar (\"juntar\") texto (str) e número (int ou float)\n",
        "\n",
        "print(\"A nota do aluno é \" + string_nota)"
      ],
      "metadata": {
        "id": "af6E4vrwZQ3d"
      },
      "execution_count": null,
      "outputs": []
    },
    {
      "cell_type": "code",
      "source": [
        "# ERRADO: Forma de concatenar (\"juntar\") texto (str) e número (int ou float)\n",
        "\n",
        "print(\"A nota do aluno é \" + int_nota) # A execução retorna um ERRO, pois o interpretador não entende que você quer juntar dois textos"
      ],
      "metadata": {
        "id": "uB32z3RPZQFt"
      },
      "execution_count": null,
      "outputs": []
    },
    {
      "cell_type": "markdown",
      "source": [
        "## Operações Lógicas:"
      ],
      "metadata": {
        "id": "aLTTzxA3BfiV"
      }
    },
    {
      "cell_type": "code",
      "source": [
        "# Operação Lógica E (AND):\n",
        "botao_pressionado = True\n",
        "tampa_fechada = False\n",
        "microondas_ligado = tampa_fechada and botao_pressionado # Se a tampa do microondas estiver fechada E o botão for pressionado => o microondas está ligado\n",
        "\n",
        "# Operação Lógica OU (OR):\n",
        "faltas = False\n",
        "nota_vermelha = True\n",
        "aluno_reprovado = faltas or nota_vermelha # Se o aluno não obteve frequência mínima OU tirou nota vermelha => o aluno é reprovado\n",
        "\n",
        "# Operação Lógica OU (OR):\n",
        "lampada_apagada  = False\n",
        "lampada_acesa = not lampada_apagada # Se a lâmpada não está acesa => a lâmpada está acesa\n",
        "\n",
        "print(\"Microondas está ligado: {}\".format(microondas_ligado))\n",
        "print(\"Aluno foi reprovado: {}\".format(aluno_reprovado))\n",
        "print(\"Lâmpada acesa: {}\".format(lampada_acesa))"
      ],
      "metadata": {
        "id": "oFDoB5c5BmZD"
      },
      "execution_count": null,
      "outputs": []
    },
    {
      "cell_type": "markdown",
      "source": [
        "## Estruturas Condicionais:"
      ],
      "metadata": {
        "id": "U4vdRT8eNbsd"
      }
    },
    {
      "cell_type": "code",
      "source": [
        "# Estrutura SE (IF), SENÃO SE (ELIF) e SENÃO (ELSE):\n",
        "\n",
        "nota = 8.5  # Nota do aluno (float)\n",
        "\n",
        "if (nota >= 5.0):\n",
        "  print(\"O aluno está aprovado! :)\")\n",
        "elif (nota >= 3.0):\n",
        "  print(\"O aluno está de recuperação.\")\n",
        "else:\n",
        "  print(\"O aluno está reprovado. :(\")"
      ],
      "metadata": {
        "id": "yEKcZkM3NkDF"
      },
      "execution_count": null,
      "outputs": []
    },
    {
      "cell_type": "markdown",
      "source": [
        "## Listas e Dicionários:"
      ],
      "metadata": {
        "id": "aD25X2xvVEJm"
      }
    },
    {
      "cell_type": "code",
      "source": [
        "# LISTAS (LIST)\n",
        "astronautas = [\"Neil Armstrong\", \"Buzz Lightyear\", \"Yuri Gagarin\"] # Lista de strings (list)\n",
        "\n",
        "print(len(astronautas)) # Número de items na lista\n",
        "print(astronautas[0])   # Primeiro item da lista (Índices começam no 0)\n",
        "print(astronautas[1])   # Segundo item da lista \n",
        "print(astronautas[2])   # Terceiro item da lista "
      ],
      "metadata": {
        "id": "ESHYDkS_VJ99"
      },
      "execution_count": null,
      "outputs": []
    },
    {
      "cell_type": "code",
      "source": [
        "# DICIONÁRIOS (DICT)\n",
        "\n",
        "notas = {\"João\": 9.5, \"Maria\": 10.0, \"Carol\": 8.0 ,\"José\": 7.5} # Dicionário com chaves de string e valores  (dict)\n",
        "\n",
        "print(notas[\"João\"])  # Acessa a nota do João\n",
        "print(notas[\"Carol\"]) # Acessa a nota da Carol\n",
        "print(notas[\"Maria\"]) # Acessa a nota da Maria\n",
        "print(notas[\"José\"])  # Acessa a nota do José"
      ],
      "metadata": {
        "id": "fg_srn9YWRQ9"
      },
      "execution_count": null,
      "outputs": []
    },
    {
      "cell_type": "markdown",
      "source": [
        "## Estruturas de Repetição:"
      ],
      "metadata": {
        "id": "CE5oXT5rPs0F"
      }
    },
    {
      "cell_type": "code",
      "source": [
        "# FOR LOOPS:\n",
        "\n",
        "notas = [9.5, 10.0, 8.0, 7.5] # Lista das notas dos alunos (list)\n",
        "soma = 0.0  # Soma das notas dos alunos (float)\n",
        "media = 0.0 # Média das notas dos alunos (float)\n",
        "\n",
        "for nota in notas:\n",
        "  soma = soma + nota\n",
        "media = soma/len(notas)\n",
        "\n",
        "print(\"A soma das notas dos alunos é: {}\".format(soma))\n",
        "print(\"A média dos alunos é: {}\".format(media))"
      ],
      "metadata": {
        "id": "c_2zMNBRPvp-"
      },
      "execution_count": null,
      "outputs": []
    },
    {
      "cell_type": "code",
      "source": [
        "# WHILE LOOPS:\n",
        "\n",
        "volume_garrafa = 0 # A garrafa está vazia (int)\n",
        "\n",
        "# Enquanto a garrafa estiver com volume menor que 100, o volume da garrafa será acrescido em 5 unidades\n",
        "while (volume_garrafa < 100):\n",
        "  print(\"Enchendo garrafa...\")\n",
        "  volume_garrafa += 5\n",
        "\n",
        "print(\"\\n Volume final da garrafa: {}\".format(volume_garrafa))"
      ],
      "metadata": {
        "id": "nx2uqz3pjAD9"
      },
      "execution_count": null,
      "outputs": []
    },
    {
      "cell_type": "markdown",
      "source": [
        "## Funções:"
      ],
      "metadata": {
        "id": "NMcYglNePwRm"
      }
    },
    {
      "cell_type": "code",
      "source": [
        "# Função para somar dois números\n",
        "def soma(a, b):\n",
        "  soma = a + b\n",
        "  return soma\n",
        "\n",
        "c = 5 + 2     # Somando dois inteiros pela operação\n",
        "d = soma(5,2) # Somando dois inteiros pela função soma()\n",
        "\n",
        "print(\"c: {}\".format(c))\n",
        "print(\"d: {}\".format(d))\n",
        "print(\"D é igual a C: {}\".format(c == d))"
      ],
      "metadata": {
        "id": "_3DvXtZBPzNj"
      },
      "execution_count": null,
      "outputs": []
    },
    {
      "cell_type": "code",
      "source": [
        "# Função para calcular a média dos alunos\n",
        "def media(notas):\n",
        "  soma = 0\n",
        "  for nota in notas:\n",
        "    soma += nota\n",
        "  media = soma/len(notas)\n",
        "  return media\n",
        "\n",
        "notas_turma_A = [9.5, 10.0, 8.0, 7.5]\n",
        "notas_turma_B = [7.5, 8.0, 6.0, 7.5, 9.0]\n",
        "\n",
        "media_turma_A = media(notas_turma_A)  # Média da turma A calculada pela função media()\n",
        "media_turma_B = media(notas_turma_B)  # Média da turma B calculada pela função media()\n",
        "\n",
        "print(\"A média da turma A é {}\".format(media_turma_A))\n",
        "print(\"A média da turma B é {}\".format(media_turma_B))"
      ],
      "metadata": {
        "id": "4A1hibqUg0_1"
      },
      "execution_count": null,
      "outputs": []
    },
    {
      "cell_type": "markdown",
      "source": [
        "# **JSON e API**"
      ],
      "metadata": {
        "id": "ttAKR5JgP-Ns"
      }
    },
    {
      "cell_type": "markdown",
      "source": [
        "## JSON"
      ],
      "metadata": {
        "id": "XCqEm6Efjffl"
      }
    },
    {
      "cell_type": "code",
      "source": [
        "import json # Importando a biblioteca para manipular JSON\n",
        "\n",
        "# Definindo dicionário de dicionários que servirá para escrever um JSON\n",
        "planetas = { \n",
        "    \"Marte\": {\n",
        "      \"satelites\": 2,\n",
        "      \"gravidade\": 3.71,\n",
        "      \"temperatura_media\": -63\n",
        "    },\n",
        "    \"Jupiter\": {\n",
        "      \"satelites\": 79,\n",
        "      \"gravidade\": 24.8,\n",
        "      \"temperatura_media\": -108\n",
        "    },\n",
        "} \n",
        "\n",
        "# Escrevendo o dicionário *planetas* num arquivo JSON\n",
        "with open(\"planetas.json\", \"w\") as file:\n",
        "    final = json.dumps(planetas, indent=2)\n",
        "    file.write(final)\n",
        "\n",
        "print(json.dumps(planetas, indent=2)) # Mostra o JSON identado\n",
        "print(\"\\n A gravidade em Marte é {} m/s^2\".format(planetas[\"Marte\"][\"gravidade\"])) # Mostra como acessar a característica \"gravidade\" do planeta \"Marte\""
      ],
      "metadata": {
        "id": "MyIO3a64jhaJ"
      },
      "execution_count": null,
      "outputs": []
    },
    {
      "cell_type": "markdown",
      "source": [
        "## API"
      ],
      "metadata": {
        "id": "0Sof4Ysbjy1l"
      }
    },
    {
      "cell_type": "code",
      "source": [
        "# Importando as bibliotecas para mostrar imagem\n",
        "from skimage import io\n",
        "import matplotlib.pyplot as plt\n",
        "\n",
        "import requests # Importando a biblioteca utilizada para extrair informações de API\n",
        "import json     # Importando a biblioteca para manipular JSON\n",
        "\n",
        "response = requests.get(\"https://api.nasa.gov/mars-photos/api/v1/rovers/curiosity/photos?earth_date=2015-6-3&api_key=DEMO_KEY\") # \"Baixando\" JSON do site da NASA\n",
        "photos = json.loads(response.text) # Carregando o JSON das fotos em um dicionário (dict)\n",
        "\n",
        "img_url = photos[\"photos\"][0][\"img_src\"] # Carregando a URL da imagem em uma string (str)\n",
        "img = io.imread(img_url) # Lendo imagem\n",
        "\n",
        "# Mostrando imagem\n",
        "plt.figure(figsize=(12, 8), dpi=80)\n",
        "plt.imshow(img)"
      ],
      "metadata": {
        "id": "o5snGTRtj0s9"
      },
      "execution_count": null,
      "outputs": []
    },
    {
      "cell_type": "markdown",
      "source": [
        "# Dados Climáticos da NASA"
      ],
      "metadata": {
        "id": "OLQTmGZR0Y9y"
      }
    },
    {
      "cell_type": "markdown",
      "source": [
        "## Extração e Filtragem de Dados"
      ],
      "metadata": {
        "id": "gbwR4g621AYQ"
      }
    },
    {
      "cell_type": "code",
      "source": [
        "import requests # Importando a biblioteca utilizada para extrair informações de API\n",
        "import json     # Importando a biblioteca para manipular JSON\n",
        "\n",
        "response = requests.get(\"https://mars.nasa.gov/rss/api/?feed=weather&category=msl&feedtype=json\") # \"Baixando\" dados climáticos do site da NASA\n",
        "mars = json.loads(response.text) # Carregando o JSON dos dados de Marte em um dicionário (dict)\n",
        "\n",
        "data = [] # Inicializando lista para dados de Marte\n",
        "\n",
        "# FOR LOOP para salvar as temperaturas de Marte dos últimos 7 dias, por isso range(0,7)\n",
        "for i in range(0,7):\n",
        "    sol = mars['soles'][i]\n",
        "    row = {\n",
        "        'date': sol['terrestrial_date'],\n",
        "        'min_temp': sol['min_temp'],\n",
        "        'max_temp': sol['max_temp']\n",
        "    }\n",
        "    data.append(row)\n",
        "\n",
        "# Salvando JSON das temperaturas de Marte em um arquivo mars.json\n",
        "with open(\"mars.json\", \"w\") as file:\n",
        "    final = json.dumps(data, indent=2)\n",
        "    file.write(final)\n",
        "\n",
        "# Mostrando resultado final do JSON\n",
        "print(final)"
      ],
      "metadata": {
        "id": "clP_B_4N0gjs"
      },
      "execution_count": null,
      "outputs": []
    },
    {
      "cell_type": "markdown",
      "source": [
        "## Estimação da Temperatura"
      ],
      "metadata": {
        "id": "GXjiJsI71WIq"
      }
    },
    {
      "cell_type": "code",
      "source": [
        "# Importando as bibliotecas para mostrar o gráfico\n",
        "from matplotlib import pyplot as plt\n",
        "import numpy as np\n",
        "import time # Importando a biblioteca utilizada para saber o horário atual\n",
        "\n",
        "# Definição de função para estimar temperatura atual\n",
        "def temperatura_estimada(temp_max, temp_min, sol):\n",
        "  temp_rel = 0.103 + -5.85*sol + 37.8*sol**2 + -58.9*sol**3 + 26.9*sol**4\n",
        "  if temp_rel < 0:\n",
        "    temp_rel = 0\n",
        "  temp_atual = temp_rel*(temp_max-temp_min) + temp_min\n",
        "  return temp_atual\n",
        "\n",
        "# Definição de função para carregar a temperatura máxima e mínima\n",
        "def temperaturas(string):\n",
        "  with open(string) as f:\n",
        "    data = json.load(f)\n",
        "\n",
        "  min_temps = [float(sol['min_temp']) for sol in data]\n",
        "  max_temps = [float(sol['max_temp']) for sol in data]\n",
        "\n",
        "  temp_min = min(min_temps)\n",
        "  temp_max = max(max_temps)\n",
        "\n",
        "  return temp_max, temp_min\n",
        "\n",
        "# Definição de função para converter horário em \"sol\" (espécie de \"horário\" normalizado em Marte)\n",
        "def sol():\n",
        "  now = time.gmtime()\n",
        "  return float(now.tm_hour/24 + now.tm_min /(24*60) + now.tm_min/(24*3600))"
      ],
      "metadata": {
        "id": "PLC4P9qvwgBB"
      },
      "execution_count": null,
      "outputs": []
    },
    {
      "cell_type": "code",
      "source": [
        "temperatura_maxima, temperatura_minima = temperaturas('mars.json') # Carregando temperatura máxima e mínima\n",
        "horario_atual = sol()  # Convertendo horário atual em \"sol\" (espécie de \"horário\" normalizado em Marte)\n",
        "temperatura_atual = temperatura_estimada(temperatura_maxima, temperatura_minima, horario_atual) # Estimando a temperatura atual em Marte\n",
        "\n",
        "# Código para mostrar temperatura máxima, mínima e estimada em Marte\n",
        "print(\"A temperatura máxima em Marte é: {} Cº\".format(round(temperatura_minima,2)))\n",
        "print(\"A temperatura mínima em Marte é: {} Cº\".format(round(temperatura_maxima,2)))\n",
        "print(\"A temperatura atual estimada em Marte é: {} Cº\".format(round(temperatura_atual,2)))\n",
        "\n",
        "# Código para mostrar no gráfico a temperatura em função do tempo em Marte\n",
        "soles = np.linspace(0, 1, num=1000)\n",
        "temperaturas_do_dia = [temperatura_estimada(temperatura_maxima, temperatura_minima, sol) for sol in soles]\n",
        "plt.figure(figsize=(12, 6), dpi=80)\n",
        "plt.plot(horario_atual,temperatura_atual,'b*')\n",
        "plt.plot(soles,temperaturas_do_dia, 'r')\n",
        "plt.xlabel(\"Sol\")\n",
        "plt.ylabel(\"Temperatura (Celsius)\")\n",
        "plt.title(\"Temperatura do ar em Marte\")\n",
        "plt.grid()"
      ],
      "metadata": {
        "id": "s6W1L_o1wYkB"
      },
      "execution_count": null,
      "outputs": []
    }
  ]
}